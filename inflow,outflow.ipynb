{
  "nbformat": 4,
  "nbformat_minor": 0,
  "metadata": {
    "colab": {
      "name": "inflow,outflow",
      "provenance": [],
      "authorship_tag": "ABX9TyOO7VQ1shrvt7DGlUxpDrlf",
      "include_colab_link": true
    },
    "kernelspec": {
      "name": "python3",
      "display_name": "Python 3"
    }
  },
  "cells": [
    {
      "cell_type": "markdown",
      "metadata": {
        "id": "view-in-github",
        "colab_type": "text"
      },
      "source": [
        "<a href=\"https://colab.research.google.com/github/subaruosawa/network-analyze/blob/main/inflow%2Coutflow.ipynb\" target=\"_parent\"><img src=\"https://colab.research.google.com/assets/colab-badge.svg\" alt=\"Open In Colab\"/></a>"
      ]
    },
    {
      "cell_type": "code",
      "metadata": {
        "id": "omiQEiDdsgvA"
      },
      "source": [
        "import json"
      ],
      "execution_count": null,
      "outputs": []
    },
    {
      "cell_type": "code",
      "metadata": {
        "id": "ON9aGQhosiBY"
      },
      "source": [
        "with open(\"/content/drive/My Drive/aId_4th_set.json\")as f:\n",
        "  aId = json.load(f)\n",
        "with open(\"/content/drive/My Drive/aId_4th_set.json\")as f:\n",
        "  aId_alpha = json.load(f)\n",
        "with open(\"/content/drive/My Drive/aId_4th_set.json\")as f:\n",
        "  aId_beta = json.load(f)"
      ],
      "execution_count": null,
      "outputs": []
    },
    {
      "cell_type": "code",
      "metadata": {
        "id": "sQf0XPPVr57w"
      },
      "source": [
        "only = [[]*n for n in range(106)]\n",
        "for n in only:\n",
        "  for nn in range(105):\n",
        "    n.append([])\n",
        "print(only)\n",
        "print(len(only))\n",
        "print(len(only[0]))"
      ],
      "execution_count": null,
      "outputs": []
    },
    {
      "cell_type": "code",
      "metadata": {
        "id": "E882OsFrsU3t"
      },
      "source": [
        "both = [[]*n for n in range(106)]\n",
        "for n in both:\n",
        "  for nn in range(105):\n",
        "    n.append([])\n",
        "print(both)\n",
        "print(len(both))\n",
        "print(len(both[0]))"
      ],
      "execution_count": null,
      "outputs": []
    },
    {
      "cell_type": "code",
      "metadata": {
        "id": "I6Ha7fYYsepp"
      },
      "source": [
        "for a,alpha in enumerate(aId_alpha):\n",
        "  del aId_beta[a]\n",
        "  for b,beta in enumerate(aId_beta):\n",
        "    for vid in alpha:\n",
        "      if not vid in beta:\n",
        "        only[a][b].append(vid)\n",
        "  aId_beta.insert(a,aId[a])"
      ],
      "execution_count": null,
      "outputs": []
    },
    {
      "cell_type": "code",
      "metadata": {
        "id": "ES9SsZvL1-fb"
      },
      "source": [
        "with open(\"/content/drive/My Drive/aId_1st_set.json\")as f:\n",
        "  aId_next = json.load(f)\n",
        "with open(\"/content/drive/My Drive/aId_1st_set.json\")as f:\n",
        "  aId_next_fix = json.load(f)"
      ],
      "execution_count": null,
      "outputs": []
    },
    {
      "cell_type": "code",
      "metadata": {
        "id": "rn74juSL2fyO"
      },
      "source": [
        "for n in range(106):\n",
        "  del aId_next[n]\n",
        "  for e,lp in enumerate(only[n]):\n",
        "    for vid in lp:\n",
        "      if vid in aId_next[e]:\n",
        "        both[n][e].append(vid)\n",
        "  aId_next.insert(n,aId_next_fix[n])"
      ],
      "execution_count": null,
      "outputs": []
    },
    {
      "cell_type": "code",
      "metadata": {
        "id": "L7r6iw553Mtt"
      },
      "source": [
        "with open(\"both.json\",\"w\")as f:\n",
        "  json.dump(both,f,indent=4,ensure_ascii=False)"
      ],
      "execution_count": null,
      "outputs": []
    },
    {
      "cell_type": "code",
      "metadata": {
        "id": "W-zhfSZ73Psk"
      },
      "source": [
        "with open(\"/content/drive/My Drive/both.json\")as f:\n",
        "  both_fix = json.load(f)"
      ],
      "execution_count": null,
      "outputs": []
    },
    {
      "cell_type": "code",
      "metadata": {
        "id": "E4V4nqpu23iu"
      },
      "source": [
        "flow_41 = []\n",
        "for e,liv in enumerate(both):\n",
        "  del both_fix[e]\n",
        "  for en,pair in enumerate(liv):\n",
        "    if en >= e:\n",
        "      flow_41.append(len(pair)-len(both_fix[en][e]))\n",
        "  both_fix.insert(e,both[e])"
      ],
      "execution_count": null,
      "outputs": []
    },
    {
      "cell_type": "code",
      "metadata": {
        "id": "4dyc7_5I30fJ"
      },
      "source": [
        "with open(\"/content/drive/My Drive/aId_1st_set.json\")as f:\n",
        "  aId = json.load(f)\n",
        "with open(\"/content/drive/My Drive/aId_1st_set.json\")as f:\n",
        "  aId_alpha = json.load(f)\n",
        "with open(\"/content/drive/My Drive/aId_1st_set.json\")as f:\n",
        "  aId_beta = json.load(f)"
      ],
      "execution_count": null,
      "outputs": []
    },
    {
      "cell_type": "code",
      "metadata": {
        "id": "1Wle8kJQ3-TI"
      },
      "source": [
        "only = [[]*n for n in range(106)]\n",
        "for n in only:\n",
        "  for nn in range(105):\n",
        "    n.append([])\n",
        "print(only)\n",
        "print(len(only))\n",
        "print(len(only[0]))"
      ],
      "execution_count": null,
      "outputs": []
    },
    {
      "cell_type": "code",
      "metadata": {
        "id": "NL-l4LkC4BWO"
      },
      "source": [
        "both = [[]*n for n in range(106)]\n",
        "for n in both:\n",
        "  for nn in range(105):\n",
        "    n.append([])\n",
        "print(both)\n",
        "print(len(both))\n",
        "print(len(both[0]))"
      ],
      "execution_count": null,
      "outputs": []
    },
    {
      "cell_type": "code",
      "metadata": {
        "id": "dilsNNVT4B9a"
      },
      "source": [
        "for a,alpha in enumerate(aId_alpha):\n",
        "  del aId_beta[a]\n",
        "  for b,beta in enumerate(aId_beta):\n",
        "    for vid in alpha:\n",
        "      if not vid in beta:\n",
        "        only[a][b].append(vid)\n",
        "  aId_beta.insert(a,aId[a])"
      ],
      "execution_count": null,
      "outputs": []
    },
    {
      "cell_type": "code",
      "metadata": {
        "id": "id_Ziljk4Ngq"
      },
      "source": [
        "with open(\"/content/drive/My Drive/aId_2nd_set.json\")as f:\n",
        "  aId_next = json.load(f)\n",
        "with open(\"/content/drive/My Drive/aId_2nd_set.json\")as f:\n",
        "  aId_next_fix = json.load(f)"
      ],
      "execution_count": null,
      "outputs": []
    },
    {
      "cell_type": "code",
      "metadata": {
        "id": "HbgpwEcm4R0e"
      },
      "source": [
        "for n in range(106):\n",
        "  del aId_next[n]\n",
        "  for e,lp in enumerate(only[n]):\n",
        "    for vid in lp:\n",
        "      if vid in aId_next[e]:\n",
        "        both[n][e].append(vid)\n",
        "  aId_next.insert(n,aId_next_fix[n])"
      ],
      "execution_count": null,
      "outputs": []
    },
    {
      "cell_type": "code",
      "metadata": {
        "id": "IP4L4hkq4VCQ"
      },
      "source": [
        "with open(\"both.json\",\"w\")as f:\n",
        "  json.dump(both,f,indent=4,ensure_ascii=False)"
      ],
      "execution_count": null,
      "outputs": []
    },
    {
      "cell_type": "code",
      "metadata": {
        "id": "t3vELJiv4ZWg"
      },
      "source": [
        "with open(\"/content/drive/My Drive/both.json\")as f:\n",
        "  both_fix = json.load(f)"
      ],
      "execution_count": null,
      "outputs": []
    },
    {
      "cell_type": "code",
      "metadata": {
        "id": "vqVTouzE4aKH"
      },
      "source": [
        "flow_12 = []\n",
        "for e,liv in enumerate(both):\n",
        "  del both_fix[e]\n",
        "  for en,pair in enumerate(liv):\n",
        "    if en >= e:\n",
        "      flow_12.append(len(pair)-len(both_fix[en][e]))\n",
        "  both_fix.insert(e,both[e])"
      ],
      "execution_count": null,
      "outputs": []
    },
    {
      "cell_type": "code",
      "metadata": {
        "id": "mHz9d1OI4g0J"
      },
      "source": [
        "with open(\"/content/drive/My Drive/aId_2nd_set.json\")as f:\n",
        "  aId = json.load(f)\n",
        "with open(\"/content/drive/My Drive/aId_2nd_set.json\")as f:\n",
        "  aId_alpha = json.load(f)\n",
        "with open(\"/content/drive/My Drive/aId_2nd_set.json\")as f:\n",
        "  aId_beta = json.load(f)"
      ],
      "execution_count": null,
      "outputs": []
    },
    {
      "cell_type": "code",
      "metadata": {
        "id": "9MeodKBk4pUX"
      },
      "source": [
        "only = [[]*n for n in range(106)]\n",
        "for n in only:\n",
        "  for nn in range(105):\n",
        "    n.append([])\n",
        "print(only)\n",
        "print(len(only))\n",
        "print(len(only[0]))"
      ],
      "execution_count": null,
      "outputs": []
    },
    {
      "cell_type": "code",
      "metadata": {
        "id": "1koSiGlK4rkh"
      },
      "source": [
        "both = [[]*n for n in range(106)]\n",
        "for n in both:\n",
        "  for nn in range(105):\n",
        "    n.append([])\n",
        "print(both)\n",
        "print(len(both))\n",
        "print(len(both[0]))"
      ],
      "execution_count": null,
      "outputs": []
    },
    {
      "cell_type": "code",
      "metadata": {
        "id": "jt95Qijp4tm7"
      },
      "source": [
        "for a,alpha in enumerate(aId_alpha):\n",
        "  del aId_beta[a]\n",
        "  for b,beta in enumerate(aId_beta):\n",
        "    for vid in alpha:\n",
        "      if not vid in beta:\n",
        "        only[a][b].append(vid)\n",
        "  aId_beta.insert(a,aId[a])"
      ],
      "execution_count": null,
      "outputs": []
    },
    {
      "cell_type": "code",
      "metadata": {
        "id": "YoIZ6x8z4wBY"
      },
      "source": [
        "with open(\"/content/drive/My Drive/aId_3rd_set.json\")as f:\n",
        "  aId_next = json.load(f)\n",
        "with open(\"/content/drive/My Drive/aId_3rd_set.json\")as f:\n",
        "  aId_next_fix = json.load(f)"
      ],
      "execution_count": null,
      "outputs": []
    },
    {
      "cell_type": "code",
      "metadata": {
        "id": "Sa6c79YL40_h"
      },
      "source": [
        "for n in range(106):\n",
        "  del aId_next[n]\n",
        "  for e,lp in enumerate(only[n]):\n",
        "    for vid in lp:\n",
        "      if vid in aId_next[e]:\n",
        "        both[n][e].append(vid)\n",
        "  aId_next.insert(n,aId_next_fix[n])"
      ],
      "execution_count": null,
      "outputs": []
    },
    {
      "cell_type": "code",
      "metadata": {
        "id": "JHFpBX0F44uP"
      },
      "source": [
        "with open(\"both.json\",\"w\")as f:\n",
        "  json.dump(both,f,indent=4,ensure_ascii=False)"
      ],
      "execution_count": null,
      "outputs": []
    },
    {
      "cell_type": "code",
      "metadata": {
        "id": "WjnK5Myw48Gl"
      },
      "source": [
        "with open(\"/content/drive/My Drive/both.json\")as f:\n",
        "  both_fix = json.load(f)"
      ],
      "execution_count": null,
      "outputs": []
    },
    {
      "cell_type": "code",
      "metadata": {
        "id": "NOSsLCaQ4_JK"
      },
      "source": [
        "flow_23 = []\n",
        "for e,liv in enumerate(both):\n",
        "  del both_fix[e]\n",
        "  for en,pair in enumerate(liv):\n",
        "    if en >= e:\n",
        "      flow_23.append(len(pair)-len(both_fix[en][e]))\n",
        "  both_fix.insert(e,both[e])"
      ],
      "execution_count": null,
      "outputs": []
    },
    {
      "cell_type": "code",
      "metadata": {
        "id": "AVcypAG_5KQz"
      },
      "source": [
        "flow = [flow41,flow_12,flow_23]"
      ],
      "execution_count": null,
      "outputs": []
    },
    {
      "cell_type": "code",
      "metadata": {
        "id": "0P-0ZHc75Ujw"
      },
      "source": [
        "with open(\"flow.json\",\"w\")as f:\n",
        "  json.dump(flow,f,indent=4,ensure_ascii=False)"
      ],
      "execution_count": null,
      "outputs": []
    }
  ]
}