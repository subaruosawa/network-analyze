{
  "nbformat": 4,
  "nbformat_minor": 0,
  "metadata": {
    "colab": {
      "name": "Jaccard",
      "provenance": [],
      "authorship_tag": "ABX9TyNREFLq0Dt+S1ZBeLC86cM2",
      "include_colab_link": true
    },
    "kernelspec": {
      "name": "python3",
      "display_name": "Python 3"
    }
  },
  "cells": [
    {
      "cell_type": "markdown",
      "metadata": {
        "id": "view-in-github",
        "colab_type": "text"
      },
      "source": [
        "<a href=\"https://colab.research.google.com/github/subaruosawa/network-analyze/blob/main/Jaccard.ipynb\" target=\"_parent\"><img src=\"https://colab.research.google.com/assets/colab-badge.svg\" alt=\"Open In Colab\"/></a>"
      ]
    },
    {
      "cell_type": "code",
      "metadata": {
        "id": "5GU-uaoDpAuA"
      },
      "source": [
        "import json"
      ],
      "execution_count": null,
      "outputs": []
    },
    {
      "cell_type": "code",
      "metadata": {
        "id": "8RGRBMU5qDBZ"
      },
      "source": [
        "with open(\"/content/drive/My Drive/aId_4th_set.json\") as f:\n",
        "  aId = json.load(f)\n",
        "with open(\"/content/drive/My Drive/aId_4th_set.json\") as f:\n",
        "  aId_alpha = json.load(f)\n",
        "with open(\"/content/drive/My Drive/aId_4th_set.json\") as f:\n",
        "  aId_beta = json.load(f)"
      ],
      "execution_count": null,
      "outputs": []
    },
    {
      "cell_type": "code",
      "metadata": {
        "id": "3khHMYXMpt26"
      },
      "source": [
        "jaccard_4th = []\n",
        "del aId_alpha[-1]\n",
        "del aId_beta[0]\n",
        "for alpha in aId_alpha:\n",
        "  for beta in aId_beta:\n",
        "    try:\n",
        "      jaccard_4th.append(len(list(set(alpha)&set(beta)))/len(list(set(alpha)|set(beta))))\n",
        "    except ZeroDivisionError:\n",
        "      jaccard_4th.append(0)\n",
        "  del aId_beta[0]"
      ],
      "execution_count": null,
      "outputs": []
    },
    {
      "cell_type": "code",
      "metadata": {
        "id": "Uwi6PJAcqh_y"
      },
      "source": [
        "with open(\"/content/drive/My Drive/aId_1st_set.json\") as f:\n",
        "  aId = json.load(f)\n",
        "with open(\"/content/drive/My Drive/aId_1st_set.json\") as f:\n",
        "  aId_alpha = json.load(f)\n",
        "with open(\"/content/drive/My Drive/aId_1st_set.json\") as f:\n",
        "  aId_beta = json.load(f)"
      ],
      "execution_count": null,
      "outputs": []
    },
    {
      "cell_type": "code",
      "metadata": {
        "id": "ry4UyAfdqw85"
      },
      "source": [
        "jaccard_1st = []\n",
        "del aId_alpha[-1]\n",
        "del aId_beta[0]\n",
        "for alpha in aId_alpha:\n",
        "  for beta in aId_beta:\n",
        "    try:\n",
        "      jaccard_1st.append(len(list(set(alpha)&set(beta)))/len(list(set(alpha)|set(beta))))\n",
        "    except ZeroDivisionError:\n",
        "      jaccard_1st.append(0)\n",
        "  del aId_beta[0]"
      ],
      "execution_count": null,
      "outputs": []
    },
    {
      "cell_type": "code",
      "metadata": {
        "id": "xmEkZtn7q4FA"
      },
      "source": [
        "with open(\"/content/drive/My Drive/aId_2nd_set.json\") as f:\n",
        "  aId = json.load(f)\n",
        "with open(\"/content/drive/My Drive/aId_2nd_set.json\") as f:\n",
        "  aId_alpha = json.load(f)\n",
        "with open(\"/content/drive/My Drive/aId_2nd_set.json\") as f:\n",
        "  aId_beta = json.load(f)"
      ],
      "execution_count": null,
      "outputs": []
    },
    {
      "cell_type": "code",
      "metadata": {
        "id": "Ca-Nge_wq9qS"
      },
      "source": [
        "jaccard_2nd = []\n",
        "del aId_alpha[-1]\n",
        "del aId_beta[0]\n",
        "for alpha in aId_alpha:\n",
        "  for beta in aId_beta:\n",
        "    try:\n",
        "      jaccard_2nd.append(len(list(set(alpha)&set(beta)))/len(list(set(alpha)|set(beta))))\n",
        "    except ZeroDivisionError:\n",
        "      jaccard_2nd.append(0)\n",
        "  del aId_beta[0]"
      ],
      "execution_count": null,
      "outputs": []
    },
    {
      "cell_type": "code",
      "metadata": {
        "id": "fBYDLrERrDaR"
      },
      "source": [
        "with open(\"/content/drive/My Drive/aId_3rd_set.json\") as f:\n",
        "  aId = json.load(f)\n",
        "with open(\"/content/drive/My Drive/aId_3rd_set.json\") as f:\n",
        "  aId_alpha = json.load(f)\n",
        "with open(\"/content/drive/My Drive/aId_3rd_set.json\") as f:\n",
        "  aId_beta = json.load(f)"
      ],
      "execution_count": null,
      "outputs": []
    },
    {
      "cell_type": "code",
      "metadata": {
        "id": "ZHKRF2xmrH55"
      },
      "source": [
        "jaccard_3rd = []\n",
        "del aId_alpha[-1]\n",
        "del aId_beta[0]\n",
        "for alpha in aId_alpha:\n",
        "  for beta in aId_beta:\n",
        "    try:\n",
        "      jaccard_3rd.append(len(list(set(alpha)&set(beta)))/len(list(set(alpha)|set(beta))))\n",
        "    except ZeroDivisionError:\n",
        "      jaccard_3rd.append(0)\n",
        "  del aId_beta[0]"
      ],
      "execution_count": null,
      "outputs": []
    },
    {
      "cell_type": "code",
      "metadata": {
        "id": "S241D9ZIrSzU"
      },
      "source": [
        "jaccard = [jaccard_4th,jaccard_1st,jaccard_2nd,jaccard_3rd]"
      ],
      "execution_count": null,
      "outputs": []
    },
    {
      "cell_type": "code",
      "metadata": {
        "id": "f97xcmy_rdjZ"
      },
      "source": [
        "with open(\"jaccard.json\",\"w\")as f:\n",
        "  json.dump(jaccard,f,indent=4,ensure_ascii=False)"
      ],
      "execution_count": null,
      "outputs": []
    }
  ]
}