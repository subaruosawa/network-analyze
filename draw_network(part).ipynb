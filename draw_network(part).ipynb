{
  "nbformat": 4,
  "nbformat_minor": 0,
  "metadata": {
    "colab": {
      "name": "draw_network(part)",
      "provenance": [],
      "mount_file_id": "1uVIHiP5aL_OYXLlkd9pCvT6UqPtBHAYv",
      "authorship_tag": "ABX9TyO1EaRb9x4WkIqHlZCjmRuD",
      "include_colab_link": true
    },
    "kernelspec": {
      "name": "python3",
      "display_name": "Python 3"
    }
  },
  "cells": [
    {
      "cell_type": "markdown",
      "metadata": {
        "id": "view-in-github",
        "colab_type": "text"
      },
      "source": [
        "<a href=\"https://colab.research.google.com/github/subaruosawa/network-analyze/blob/main/draw_network(part).ipynb\" target=\"_parent\"><img src=\"https://colab.research.google.com/assets/colab-badge.svg\" alt=\"Open In Colab\"/></a>"
      ]
    },
    {
      "cell_type": "code",
      "metadata": {
        "id": "Ks4Dp6fV7KVF"
      },
      "source": [
        "import json\n",
        "import datetime\n",
        "import networkx as nx\n",
        "import matplotlib.pyplot as plt\n",
        "from community import community_louvain\n",
        "import community"
      ],
      "execution_count": 6,
      "outputs": []
    },
    {
      "cell_type": "code",
      "metadata": {
        "id": "28PlaXrs75ja"
      },
      "source": [
        "with open(\"/content/drive/My Drive/jaccard.json\") as f:\n",
        "  jaccard = json.load(f)\n",
        "with open(\"/content/drive/My Drive/flow.json\") as f:\n",
        "  flow = json.load(f)\n",
        "with open(\"/content/drive/My Drive/aId_3rd_set.json\") as f:\n",
        "  aId = json.load(f)\n",
        "with open(\"/content/drive/My Drive/liver_sex.json\") as f:\n",
        "  sex = json.load(f)\n",
        "with open(\"/content/drive/My Drive/liver_debut.json\") as f:\n",
        "  debut_str = json.load(f)\n",
        "with open(\"/content/drive/My Drive/real_name.json\") as f:\n",
        "  real_name = json.load(f)"
      ],
      "execution_count": null,
      "outputs": []
    },
    {
      "cell_type": "code",
      "metadata": {
        "id": "gTxejig-8Us5"
      },
      "source": [
        "debut = []\n",
        "for i in debut_str:\n",
        "  debut.append(datetime.datetime.now(datetime.timezone(datetime.timedelta(hours=9))).date()\n",
        "   - datetime.datetime.strptime(i,'%Y-%m-%d').date())"
      ],
      "execution_count": null,
      "outputs": []
    },
    {
      "cell_type": "code",
      "metadata": {
        "id": "KNW7VwzG8WrF"
      },
      "source": [
        "with open(\"/content/drive/My Drive/real_name.json\") as f:\n",
        "  name_alpha = json.load(f)\n",
        "with open(\"/content/drive/My Drive/real_name.json\") as f:\n",
        "  name_beta = json.load(f)"
      ],
      "execution_count": null,
      "outputs": []
    },
    {
      "cell_type": "code",
      "metadata": {
        "id": "rnLLmAol8akc"
      },
      "source": [
        "G = nx.Graph()\n",
        "\n",
        "for i in range(106):\n",
        "  G.add_node(real_name[i],\n",
        "             count = len(aId[i]),\n",
        "             sex = sex[i],\n",
        "             debut = debut[i],\n",
        "             name = real_name[i])\n",
        "\n",
        "n = 0\n",
        "del name_alpha[-1]\n",
        "del name_beta[0]\n",
        "for alpha in name_alpha:\n",
        "  for beta in name_beta:\n",
        "    if not jaccard[2][n] = 0 \n",
        "      G.add_edge(alpha,beta,weight = jaccard[2][n])\n",
        "    n += 1\n",
        "  del name_beta[0]"
      ],
      "execution_count": null,
      "outputs": []
    },
    {
      "cell_type": "code",
      "metadata": {
        "id": "fRQn_yd3-Wpi"
      },
      "source": [
        "#オプション：デビュー時期\n",
        "#for n,d in list(G.nodes(data=True)):\n",
        "  #if d[\"sex\"] == \"man\":\n",
        "    #G.remove_node(n)\n",
        "\n",
        "#オプション：性別\n",
        "#for n,d in list(G.nodes(data=True)):\n",
        "  #if d[\"debut\"] >= datetime.timedelta(365):\n",
        "    #G.remove_node(n)\n",
        "\n",
        "for u,v,d in list(G.edges(data=True)):\n",
        "  if d[\"weight\"] <= 0.02:\n",
        "    G.remove_edge(u,v)\n",
        "\n",
        "for name,deg in list(G.degree):\n",
        "  if deg <= 1:\n",
        "    G.remove_node(name)"
      ],
      "execution_count": null,
      "outputs": []
    },
    {
      "cell_type": "code",
      "metadata": {
        "id": "2dEEFBZv_wIP"
      },
      "source": [
        "plt.figure(figsize=(15,15))\n",
        "pos = nx.spring_layout(G, k=0.2)\n",
        "deg = nx.degree_centrality(G).values()\n",
        "partition=community.best_partition(G)\n",
        "nx.draw_networkx(G, pos, with_labels=True)\n",
        "cliques = nx.find_cliques(G)\n",
        "\n",
        "node_size = [ d[\"count\"]**1.1 for (n,d) in G.nodes(data=True)]\n",
        "nx.draw_networkx_nodes(G, pos, node_size=node_size,\n",
        "                       #node_color=list(deg),\n",
        "                       node_color=list(partition.values()),\n",
        "                       cmap=plt.cm.RdYlBu\n",
        "                       )  \n",
        "edge_width = [ d['weight']*100 for (u,v,d) in G.edges(data=True)]\n",
        "nx.draw_networkx_edges(G, pos, edge_color=edge_width, width=edge_width, edge_cmap=plt.cm.cool)\n",
        "\n",
        "plt.axis('off')\n",
        "plt.show()"
      ],
      "execution_count": null,
      "outputs": []
    },
    {
      "cell_type": "markdown",
      "metadata": {
        "id": "IqZjloyAYYkZ"
      },
      "source": [
        "レコメンドシステムの設計"
      ]
    },
    {
      "cell_type": "code",
      "metadata": {
        "id": "ChvqHsIdcf8z"
      },
      "source": [
        "name_adj = [[]*n for n in range(106)]\n",
        "name_wei = [[]*n for n in range(106)]\n",
        "for e,na in enumerate(real_name):\n",
        "  for k,v in G.adj[na].items():\n",
        "    name_adj[e].append(k)\n",
        "    name_wei[e].append(v[\"weight\"])\n",
        "\n",
        "adj_wei = [{}*n for n in range(106)]\n",
        "for n in range(106):\n",
        "  adj_wei[n].update(zip(name_adj[n],name_wei[n]))\n",
        "\n",
        "input = str(LIVER_NAME)\n",
        "print(\"選択ライバーと一番ファン層が類似しているライバー\")\n",
        "order_name = real_name.index(input)\n",
        "print(\"ライバー名:\"+max(adj_wei[order_name], key=adj_wei[order_name].get))\n",
        "print(\"Jaccard係数(被っているファンの多さ):\"+max(adj_wei[order_name].values()))"
      ],
      "execution_count": null,
      "outputs": []
    },
    {
      "cell_type": "code",
      "metadata": {
        "id": "Axo4IHfAYbGn"
      },
      "source": [
        "name = []\n",
        "degree = []\n",
        "for k,v in nx.degree_centrality(G).items():\n",
        "  name.append(k)\n",
        "  degree.append(v)\n",
        "\n",
        "import pandas as pd\n",
        "df = pd.DataFrame({\"degree\":degree},index=name)\n",
        "df_sort = df.sort_values(by=\"degree\", ascending=False)\n",
        "\n",
        "input = str(LIVER_NAME)\n",
        "print(\"繋がりがある中で一番他ライバーとも繋がりを持つライバー\")\n",
        "order_name = name.index(input)\n",
        "input_deg = []\n",
        "name_adj[[]*n for n in range(106)]\n",
        "for i in name_adj[order_name]:\n",
        "  input_deg.append(df_sort.loc[i,\"degree\"])\n",
        "adj_deg = dict(zip(name_adj[order_name],input_deg))\n",
        "print(\"ライバー名:\"+max(adj_deg, key=adj_deg.get))\n",
        "print(\"次数(繋がりの数)の大きさ:\"+max(adj_deg.values()))"
      ],
      "execution_count": null,
      "outputs": []
    },
    {
      "cell_type": "markdown",
      "metadata": {
        "id": "uuut4r4hB49D"
      },
      "source": [
        "クラスターの分析"
      ]
    },
    {
      "cell_type": "code",
      "metadata": {
        "id": "0hT106LGA4tF"
      },
      "source": [
        "print(\"クラスター数:\"+max(partition.values()))\n",
        "print(\"各ライバーの所属クラスター:\"+partition)"
      ],
      "execution_count": null,
      "outputs": []
    },
    {
      "cell_type": "code",
      "metadata": {
        "id": "lQ5CwAz9DNOi"
      },
      "source": [
        "#ファン層の被りを調べる\n",
        "cluster_n = []\n",
        "for k,v in partition.items():\n",
        "  if v == 0:#クラスターの数字\n",
        "    cluster_n.append(k)\n",
        "\n",
        "for u,v in list(G.edges):\n",
        "  if not u in cluster_n:\n",
        "    G.remove_edge(u,v)\n",
        "  elif not v in cluster_n:\n",
        "    G.remove_edge(u,v)\n",
        "\n",
        "for name,deg in list(G.degree):\n",
        "  if deg <= 0:\n",
        "    G.remove_node(name)\n",
        "\n",
        "###############################################################################\n",
        "plt.figure(figsize=(15,15))\n",
        "pos = nx.spring_layout(G, k=0.2)\n",
        "deg = nx.degree_centrality(G).values()\n",
        "nx.draw_networkx(G, pos, with_labels=True)\n",
        "cliques = nx.find_cliques(G)\n",
        "\n",
        "node_size = [ d[\"count\"]**1.1 for (n,d) in G.nodes(data=True)]\n",
        "nx.draw_networkx_nodes(G, pos, node_size=node_size,node_color=list(deg),cmap=plt.cm.cool)\n",
        "edge_width = [ d['weight']*100 for (u,v,d) in G.edges(data=True)]\n",
        "nx.draw_networkx_edges(G, pos,edge_color=edge_width, width=edge_width,edge_cmap=plt.cm.cool)\n",
        "\n",
        "plt.axis('off')\n",
        "plt.show()\n",
        "\n",
        "print(\"クラスター係数(コミュニティ内がどれほど繋がっているか):\"+nx.average_clustering(G))"
      ],
      "execution_count": null,
      "outputs": []
    },
    {
      "cell_type": "code",
      "metadata": {
        "id": "yDhV6UZ5GSrK"
      },
      "source": [
        "#ファンの流出入を調べる\n",
        "DG = nx.DiGraph()\n",
        "\n",
        "for i in range(106):\n",
        "  DG.add_node(name_alpha[i],\n",
        "             count = len(aId[i]),\n",
        "             sex = sex[i],\n",
        "             debut = debut[i],\n",
        "             name = name_str[i])\n",
        "n = 0\n",
        "del name_alpha[-1]\n",
        "del name_beta[0]\n",
        "for alpha in name_alpha:\n",
        "  for beta in name_beta:\n",
        "    if flow[2][n] > 0:\n",
        "      DG.add_edge(alpha,beta,weight = flow[2][n])\n",
        "    elif flow[2][n] < 0:\n",
        "      DG.add_edge(beta,alpha,weight = -flow[2][n])            \n",
        "    n += 1\n",
        "  del name_beta[0]\n",
        "\n",
        "cluster_n = []\n",
        "for k,v in partition.items():\n",
        "  if v == 0:#クラスターの数字\n",
        "    cluster_n.append(k)\n",
        "for u,v in list(DG.edges):\n",
        "  if not u in cluster_n:\n",
        "    DG.remove_edge(u,v)\n",
        "  elif not v in cluster_n:\n",
        "    DG.remove_edge(u,v)\n",
        "\n",
        "for u,v,d in list(DG.edges(data=True)):\n",
        "  if d[\"weight\"] <= 100:\n",
        "    DG.remove_edge(u,v)\n",
        "\n",
        "for name,deg in list(DG.degree):\n",
        "  if deg <= 0:\n",
        "    DG.remove_node(name)\n",
        "################################################################################\n",
        "plt.figure(figsize=(15,15))\n",
        "pos = nx.spring_layout(DG, k=0.2)\n",
        "deg = nx.degree_centrality(DG).values()\n",
        "nx.draw_networkx(DG, pos, with_labels=True)\n",
        "\n",
        "node_size = [ d[\"count\"]/10 for (n,d) in DG.nodes(data=True)]\n",
        "nx.draw_networkx_nodes(DG, pos, node_size=node_size, node_color=list(deg), cmap=plt.cm.cool)\n",
        "edge_width = [ d['weight']/30 for (u,v,d) in DG.edges(data=True)]\n",
        "nx.draw_networkx_edges(DG, pos,edge_color=edge_width, width=edge_width, edge_cmap=plt.cm.cool)\n",
        "\n",
        "plt.axis('off')\n",
        "plt.show()"
      ],
      "execution_count": null,
      "outputs": []
    },
    {
      "cell_type": "markdown",
      "metadata": {
        "id": "KQ05vtxqXJAD"
      },
      "source": [
        "各ライバー周辺のコミュニティ確認"
      ]
    },
    {
      "cell_type": "code",
      "metadata": {
        "id": "sbSQUoh4XaBP"
      },
      "source": [
        "G = nx.Graph()\n",
        "\n",
        "for i in range(106):\n",
        "  G.add_node(name_str[i],\n",
        "             count = len(aId[i]),\n",
        "             sex = sex[i],\n",
        "             debut = debut[i],\n",
        "             name = name_str[i])\n",
        "\n",
        "n = 0\n",
        "del name_alpha[-1]\n",
        "del name_beta[0]\n",
        "for alpha in name_alpha:\n",
        "  for beta in name_beta:\n",
        "    if not jaccard[2][n] = 0 \n",
        "      G.add_edge(alpha,beta,weight = jaccard[2][n])\n",
        "    n += 1\n",
        "  del name_beta[0]\n",
        "\n",
        "for u,v,d in list(G.edges(data=True)):\n",
        "  if d[\"weight\"] <= 0.02:\n",
        "    G.remove_edge(u,v)\n",
        "\n",
        "input = str(LIVER_NAME)\n",
        "first_adj = []\n",
        "for na in G.adj[pick].keys():\n",
        "  first_adj.append(na)\n",
        "adj_set = list(set([pick]+first_adj))\n",
        "for u,v in list(G.edges):\n",
        "  if not u in adj_set:\n",
        "    if not v in adj_set:\n",
        "      G.remove_edge(u,v)\n",
        "\n",
        "for name,deg in list(G.degree):\n",
        "  if deg <= 1:\n",
        "    G.remove_node(name)\n",
        "\n",
        "plt.figure(figsize=(15,15))\n",
        "pos = nx.spring_layout(G, k=0.2)\n",
        "deg = nx.degree_centrality(G).values()\n",
        "partition=community.best_partition(G)\n",
        "nx.draw_networkx(G, pos, with_labels=True)\n",
        "cliques = nx.find_cliques(G)\n",
        "\n",
        "node_size = [ d[\"count\"]**1.1 for (n,d) in G.nodes(data=True)]\n",
        "nx.draw_networkx_nodes(G, pos, node_size=node_size,\n",
        "                       #node_color=list(deg),\n",
        "                       node_color=list(partition.values()),\n",
        "                       cmap=plt.cm.RdYlBu\n",
        "                       )  \n",
        "edge_width = [ d['weight']*100 for (u,v,d) in G.edges(data=True)]\n",
        "nx.draw_networkx_edges(G, pos, edge_color=edge_width, width=edge_width, edge_cmap=plt.cm.cool)\n",
        "\n",
        "plt.axis('off')\n",
        "plt.show()"
      ],
      "execution_count": null,
      "outputs": []
    }
  ]
}