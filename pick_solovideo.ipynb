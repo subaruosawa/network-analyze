{
  "nbformat": 4,
  "nbformat_minor": 0,
  "metadata": {
    "colab": {
      "name": "pick_solovideo",
      "provenance": [],
      "authorship_tag": "ABX9TyMW2mda5ffsSUXISfT6WkFF",
      "include_colab_link": true
    },
    "kernelspec": {
      "name": "python3",
      "display_name": "Python 3"
    }
  },
  "cells": [
    {
      "cell_type": "markdown",
      "metadata": {
        "id": "view-in-github",
        "colab_type": "text"
      },
      "source": [
        "<a href=\"https://colab.research.google.com/github/subaruosawa/network-analyze/blob/main/pick_solovideo.ipynb\" target=\"_parent\"><img src=\"https://colab.research.google.com/assets/colab-badge.svg\" alt=\"Open In Colab\"/></a>"
      ]
    },
    {
      "cell_type": "code",
      "metadata": {
        "id": "DVVr09nkfQmV"
      },
      "source": [
        "import json"
      ],
      "execution_count": null,
      "outputs": []
    },
    {
      "cell_type": "code",
      "metadata": {
        "id": "w5egDrobfuGf"
      },
      "source": [
        "with open(\"/content/drive/My Drive/videoId.json\")as f:\n",
        "  videoId =json.load(f)\n",
        "with open(\"/content/drive/My Drive/description.json\")as f:\n",
        "  description = json.load(f)\n",
        "with open(\"/content/drive/My Drive/channelId.json\")as f:\n",
        "  channelId = json.load(f)\n",
        "with open(\"/content/drive/My Drive/channelId.json\")as f:\n",
        "  channelId_fix = json.load(f)"
      ],
      "execution_count": null,
      "outputs": []
    },
    {
      "cell_type": "code",
      "metadata": {
        "id": "12cmyqcOgDSb"
      },
      "source": [
        "liver_dic = [{}*n for n in range(106)]\n",
        "dupli = [[]*n for n in range(106)]\n",
        "dupli_set = [[]*n for n in range(106)]\n",
        "solo = [[]*n for n in range(106)]"
      ],
      "execution_count": null,
      "outputs": []
    },
    {
      "cell_type": "code",
      "metadata": {
        "id": "v8nSaDpMgA20"
      },
      "source": [
        "for n in range(106):\n",
        "  liver_dic[n].update(zip(videoId[n],description[n]))"
      ],
      "execution_count": null,
      "outputs": []
    },
    {
      "cell_type": "code",
      "metadata": {
        "id": "Oh7R8JXZgNbb"
      },
      "source": [
        "for e,ld in enumerate(liver_dic):\n",
        "  del channelId[e]\n",
        "  for vid,des in ld.items():\n",
        "    for chid in channelId:\n",
        "      if chid in des:\n",
        "        dupli[e].append(vid)\n",
        "  channelId.insert(e,channelId_fix[e])"
      ],
      "execution_count": null,
      "outputs": []
    },
    {
      "cell_type": "code",
      "metadata": {
        "id": "06oNsUN5gQcj"
      },
      "source": [
        "for e,dup in enumerate(dupli):\n",
        "  dupli_set[e] += set(dup)"
      ],
      "execution_count": null,
      "outputs": []
    },
    {
      "cell_type": "code",
      "metadata": {
        "id": "-drGWAHQgyD6"
      },
      "source": [
        "for e,liv in enumerate(videoId):\n",
        "  for vid in liv:\n",
        "    if not vid in dupli_set[e]:\n",
        "      solo[e].append(vid)"
      ],
      "execution_count": null,
      "outputs": []
    },
    {
      "cell_type": "code",
      "metadata": {
        "id": "wN9QuEmsg4SX"
      },
      "source": [
        "with open(\"solo.json\",\"w\")as f:\n",
        "  json.dump(solo,f,indent=4,ensure_ascii=False)"
      ],
      "execution_count": null,
      "outputs": []
    },
    {
      "cell_type": "code",
      "metadata": {
        "id": "zZLK8e35g_Fs"
      },
      "source": [
        "for n in range(106):\n",
        "  if len(videoId[n]) != len(dupli_set[n])+len(solo[n]):\n",
        "    print(\"defferent!\")"
      ],
      "execution_count": null,
      "outputs": []
    }
  ]
}