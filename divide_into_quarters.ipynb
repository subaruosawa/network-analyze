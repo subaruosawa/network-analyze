{
  "nbformat": 4,
  "nbformat_minor": 0,
  "metadata": {
    "colab": {
      "name": "divide_into_quarters",
      "provenance": [],
      "authorship_tag": "ABX9TyMdM8sNXlFPwtfJ9HWzTy5O",
      "include_colab_link": true
    },
    "kernelspec": {
      "name": "python3",
      "display_name": "Python 3"
    }
  },
  "cells": [
    {
      "cell_type": "markdown",
      "metadata": {
        "id": "view-in-github",
        "colab_type": "text"
      },
      "source": [
        "<a href=\"https://colab.research.google.com/github/subaruosawa/network-analyze/blob/main/divide_into_quarters.ipynb\" target=\"_parent\"><img src=\"https://colab.research.google.com/assets/colab-badge.svg\" alt=\"Open In Colab\"/></a>"
      ]
    },
    {
      "cell_type": "code",
      "metadata": {
        "id": "KruxBdyClUP0"
      },
      "source": [
        "import json\n",
        "import datetime\n",
        "import dateutil.parser"
      ],
      "execution_count": null,
      "outputs": []
    },
    {
      "cell_type": "code",
      "metadata": {
        "id": "IMjieemll0uC"
      },
      "source": [
        "pip install python-dateutil"
      ],
      "execution_count": null,
      "outputs": []
    },
    {
      "cell_type": "code",
      "metadata": {
        "id": "t37YDaFsleia"
      },
      "source": [
        "with open(\"/content/drive/My Drive/authorChannelId.json\") as f:\n",
        "  authorChannelId = json.load(f)\n",
        "with open(\"/content/drive/My Drive/publishedAt.json\") as f:\n",
        "  USApublishAt = json.load(f)"
      ],
      "execution_count": null,
      "outputs": []
    },
    {
      "cell_type": "code",
      "metadata": {
        "id": "_-1cNvjUlnWC"
      },
      "source": [
        "number = range(106)\n",
        "num_USA = dict(zip(number,USApublishAt))"
      ],
      "execution_count": null,
      "outputs": []
    },
    {
      "cell_type": "code",
      "metadata": {
        "id": "Y-jICsaJl4Qq"
      },
      "source": [
        "JPpublishAt = [[]*n for n in range(106)]"
      ],
      "execution_count": null,
      "outputs": []
    },
    {
      "cell_type": "code",
      "metadata": {
        "id": "6poGEtH3l3Y7"
      },
      "source": [
        "#日付を日本時間に直す\n",
        "JST = datetime.timezone(datetime.timedelta(hours=+9), 'JST')\n",
        "\n",
        "for num,usa in num_USA.items():\n",
        "  for pub in usa:\n",
        "    jst_datetime = dateutil.parser.parse(pub).astimezone(JST)\n",
        "    JPpublishAt[num].append(jst_datetime.date())"
      ],
      "execution_count": null,
      "outputs": []
    },
    {
      "cell_type": "code",
      "metadata": {
        "id": "PR-UCK4umFFc"
      },
      "source": [
        "num_JP = dict(zip(number,JPpublishAt))"
      ],
      "execution_count": null,
      "outputs": []
    },
    {
      "cell_type": "code",
      "metadata": {
        "id": "ZpXnNyNumJJs"
      },
      "source": [
        "aId_4th = [[]*n for n in range(106)]\n",
        "aId_1st = [[]*n for n in range(106)]\n",
        "aId_2nd = [[]*n for n in range(106)]\n",
        "aId_3rd = [[]*n for n in range(106)]"
      ],
      "execution_count": null,
      "outputs": []
    },
    {
      "cell_type": "code",
      "metadata": {
        "id": "DQb_r7D1mHox"
      },
      "source": [
        "for num,liv in num_JP.items():\n",
        "  for e,pub in enumerate(liv):\n",
        "    if pub < datetime.date(2020, 1, 1):\n",
        "      aId_4th[num].append(authorChannelId[num][e])\n",
        "    elif pub < datetime.date(2020, 4, 1):\n",
        "      aId_1st[num].append(authorChannelId[num][e])\n",
        "    elif pub < datetime.date(2020, 7, 1):\n",
        "      aId_2nd[num].append(authorChannelId[num][e])\n",
        "    elif pub < datetime.date(2020, 10, 10):\n",
        "      aId_3rd[num].append(authorChannelId[num][e])      "
      ],
      "execution_count": null,
      "outputs": []
    },
    {
      "cell_type": "code",
      "metadata": {
        "id": "9csjphUynMWh"
      },
      "source": [
        "test = 0\n",
        "for n in range(106):\n",
        "  test += len(authorChannelId[n])\n",
        "test2 = 0\n",
        "for n in range(106):\n",
        "  test2 += len(aId_4th[n])+len(aId_1st[n])+len(aId_2nd[n])+len(aId_3rd[n])\n",
        "if test != test2:\n",
        "  print(\"different!\")"
      ],
      "execution_count": null,
      "outputs": []
    },
    {
      "cell_type": "code",
      "metadata": {
        "id": "DLpxAn6Lnb9q"
      },
      "source": [
        "aId_4th_set = [[]*n for n in range(106)]\n",
        "aId_1st_set = [[]*n for n in range(106)]\n",
        "aId_2nd_set = [[]*n for n in range(106)]\n",
        "aId_3rd_set = [[]*n for n in range(106)]"
      ],
      "execution_count": null,
      "outputs": []
    },
    {
      "cell_type": "code",
      "metadata": {
        "id": "Xk6mLaHInqRj"
      },
      "source": [
        "for liv in aId_4th:\n",
        "  aId_4th_set.append(list(set(liv)))\n",
        "for liv in aId_1st:\n",
        "  aId_1st_set.append(list(set(liv)))\n",
        "for liv in aId_2nd:\n",
        "  aId_2nd_set.append(list(set(liv)))\n",
        "for liv in aId_3rd:\n",
        "  aId_3rd_set.append(list(set(liv)))"
      ],
      "execution_count": null,
      "outputs": []
    },
    {
      "cell_type": "code",
      "metadata": {
        "id": "2dpseTAkoEir"
      },
      "source": [
        "with open(\"aId_4th_set.json\",\"w\") as f:\n",
        "  json.dump(aId_4th_set,f,indent=4,ensure_ascii=False)\n",
        "with open(\"aId_1st_set.json\",\"w\") as f:\n",
        "  json.dump(aId_1st_set,f,indent=4,ensure_ascii=False)\n",
        "with open(\"aId_2nd_set.json\",\"w\") as f:\n",
        "  json.dump(aId_2nd_set,f,indent=4,ensure_ascii=False)\n",
        "with open(\"aId_3rd_set.json\",\"w\") as f:\n",
        "  json.dump(aId_3rd_set,f,indent=4,ensure_ascii=False)"
      ],
      "execution_count": null,
      "outputs": []
    }
  ]
}